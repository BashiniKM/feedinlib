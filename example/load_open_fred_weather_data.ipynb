{
 "cells": [
  {
   "cell_type": "markdown",
   "metadata": {},
   "source": [
    "# Example for open_FRED weather data download\n",
    "\n",
    "This example shows you how to download open_FRED weather data from the [OpenEnergy DataBase](https://openenergy-platform.org/dataedit/) and store it locally. Furthermore, it shows how to convert the weather data to the format needed by the `pvlib`and `windpowerlib` using the `feedinlib`.\n",
    "\n",
    "* [Download data for single coordinate](#single_loc)\n",
    "* [Download data for a region](#region)\n",
    "* [Convert data into pvlib and windpowerlib format](#convert)"
   ]
  },
  {
   "cell_type": "code",
   "execution_count": 3,
   "metadata": {},
   "outputs": [],
   "source": [
    "from shapely.geometry import Point, Polygon\n",
    "\n",
    "from feedinlib.open_FRED import Weather\n",
    "from feedinlib.open_FRED import defaultdb"
   ]
  },
  {
   "cell_type": "markdown",
   "metadata": {},
   "source": [
    "## Download data for single coordinate <a class=\"anchor\" id=\"single_loc\"></a>\n",
    "\n",
    "To download data for a single location you have to specify a shapely Point with longitude and latitude of the desired location. Data will be retrieved for the nearest weather data point to that location."
   ]
  },
  {
   "cell_type": "code",
   "execution_count": 6,
   "metadata": {},
   "outputs": [],
   "source": [
    "location = Point(13.30, 52.47)"
   ]
  },
  {
   "cell_type": "markdown",
   "metadata": {},
   "source": [
    "Besides a location you have to specify a time period for which you would like to download the data as well as the weather variables you need. The feedinlib provides predefined sets of variables that are needed to use the pvlib and windpowerlib. These can be applied by setting the `variables` parameter to \"pvlib\" or \"windpowerlib\", as shown below.\n",
    "\n",
    "Concerning the start and end date, keep in mind that all timestamps in the `feedinlib` are in UTC. So if you later on want to convert the data to a different time zone, the data may not cover the whole period you intended to download. To avoid this set your start date to one day before the start of your required period if you are East of the zero meridian or your end date to one day after your required period ends if you are West of the zero meridian."
   ]
  },
  {
   "cell_type": "code",
   "execution_count": 3,
   "metadata": {},
   "outputs": [],
   "source": [
    "# download data for July 2017 (end date will not be included in the \n",
    "# time period for which data is downloaded)\n",
    "start_date, end_date = '2017-07-01', '2017-08-01'\n",
    "# set variables set to download\n",
    "variables = \"windpowerlib\""
   ]
  },
  {
   "cell_type": "markdown",
   "metadata": {},
   "source": [
    "As the open_FRED weather dataset provides some variables at different heights, such as wind speed and air pressure, it is possible to define which heights you want to retrieve the data for."
   ]
  },
  {
   "cell_type": "code",
   "execution_count": 4,
   "metadata": {},
   "outputs": [],
   "source": [
    "heights = [100, 140]"
   ]
  },
  {
   "cell_type": "markdown",
   "metadata": {},
   "source": [
    "Now we can retrieve the data:"
   ]
  },
  {
   "cell_type": "code",
   "execution_count": 5,
   "metadata": {},
   "outputs": [],
   "source": [
    "open_FRED_weather_windpowerlib_single_location = Weather(\n",
    "    start=start_date, stop=end_date, locations=[location],\n",
    "    heights=heights,\n",
    "    variables=variables,\n",
    "    **defaultdb())"
   ]
  },
  {
   "cell_type": "markdown",
   "metadata": {},
   "source": [
    "The `Weather` object can be stored and later reloaded using the `to_csv` and `from_csv` functions:"
   ]
  },
  {
   "cell_type": "code",
   "execution_count": 4,
   "metadata": {},
   "outputs": [],
   "source": [
    "#open_FRED_weather_windpowerlib_single_location.to_csv(\n",
    "    #'open_FRED_weather_windpowerlib_single_location')\n",
    "open_FRED_weather_windpowerlib_single_location = Weather.from_csv(\n",
    "    'open_FRED_weather_windpowerlib_single_location')"
   ]
  },
  {
   "cell_type": "markdown",
   "metadata": {},
   "source": [
    "## Download data for a region<a class=\"anchor\" id=\"region\"></a>"
   ]
  },
  {
   "cell_type": "markdown",
   "metadata": {},
   "source": [
    "In this example we will retrieve weather data needed for pvlib calculations. We can do this by setting `variables` to \"pvlib\". In this case specifying the heights for which to retrieve the data is not necessary as irradiance data is only available at the surface and 10m wind speed is used per default.\n",
    "\n",
    "**<font color=red>The following code may take a while to execute!</font>**"
   ]
  },
  {
   "cell_type": "code",
   "execution_count": 12,
   "metadata": {},
   "outputs": [
    {
     "ename": "AttributeError",
     "evalue": "'Location' object has no attribute 'x'",
     "output_type": "error",
     "traceback": [
      "\u001b[0;31m---------------------------------------------------------------------------\u001b[0m",
      "\u001b[0;31mAttributeError\u001b[0m                            Traceback (most recent call last)",
      "\u001b[0;32m<ipython-input-12-eccecb4655d2>\u001b[0m in \u001b[0;36m<module>\u001b[0;34m\u001b[0m\n\u001b[1;32m      8\u001b[0m     \u001b[0mregions\u001b[0m\u001b[0;34m=\u001b[0m\u001b[0;34m[\u001b[0m\u001b[0mregion_shape\u001b[0m\u001b[0;34m.\u001b[0m\u001b[0mgeometry\u001b[0m\u001b[0;34m.\u001b[0m\u001b[0mvalues\u001b[0m\u001b[0;34m[\u001b[0m\u001b[0;36m0\u001b[0m\u001b[0;34m]\u001b[0m\u001b[0;34m]\u001b[0m\u001b[0;34m,\u001b[0m\u001b[0;34m\u001b[0m\u001b[0;34m\u001b[0m\u001b[0m\n\u001b[1;32m      9\u001b[0m     \u001b[0mvariables\u001b[0m\u001b[0;34m=\u001b[0m\u001b[0;34m\"pvlib\"\u001b[0m\u001b[0;34m,\u001b[0m\u001b[0;34m\u001b[0m\u001b[0;34m\u001b[0m\u001b[0m\n\u001b[0;32m---> 10\u001b[0;31m     **defaultdb())\n\u001b[0m",
      "\u001b[0;32m~/virtualenvs/feedinlib_openmod/git_repos/feedinlib/feedinlib/open_FRED.py\u001b[0m in \u001b[0;36m__init__\u001b[0;34m(self, start, stop, locations, heights, variables, regions, session, db)\u001b[0m\n\u001b[1;32m    157\u001b[0m             {\n\u001b[1;32m    158\u001b[0m                 \u001b[0;34m(\u001b[0m\u001b[0mp\u001b[0m\u001b[0;34m.\u001b[0m\u001b[0mx\u001b[0m\u001b[0;34m,\u001b[0m \u001b[0mp\u001b[0m\u001b[0;34m.\u001b[0m\u001b[0my\u001b[0m\u001b[0;34m)\u001b[0m\u001b[0;34m:\u001b[0m \u001b[0mp\u001b[0m\u001b[0;34m\u001b[0m\u001b[0;34m\u001b[0m\u001b[0m\n\u001b[0;32m--> 159\u001b[0;31m                 \u001b[0;32mfor\u001b[0m \u001b[0mp\u001b[0m \u001b[0;32min\u001b[0m \u001b[0mchain\u001b[0m\u001b[0;34m(\u001b[0m\u001b[0mself\u001b[0m\u001b[0;34m.\u001b[0m\u001b[0mlocations\u001b[0m\u001b[0;34m.\u001b[0m\u001b[0mvalues\u001b[0m\u001b[0;34m(\u001b[0m\u001b[0;34m)\u001b[0m\u001b[0;34m,\u001b[0m \u001b[0;34m*\u001b[0m\u001b[0mself\u001b[0m\u001b[0;34m.\u001b[0m\u001b[0mregions\u001b[0m\u001b[0;34m.\u001b[0m\u001b[0mvalues\u001b[0m\u001b[0;34m(\u001b[0m\u001b[0;34m)\u001b[0m\u001b[0;34m)\u001b[0m\u001b[0;34m\u001b[0m\u001b[0;34m\u001b[0m\u001b[0m\n\u001b[0m\u001b[1;32m    160\u001b[0m             }\n\u001b[1;32m    161\u001b[0m         )\n",
      "\u001b[0;32m~/virtualenvs/feedinlib_openmod/git_repos/feedinlib/feedinlib/open_FRED.py\u001b[0m in \u001b[0;36m<dictcomp>\u001b[0;34m(.0)\u001b[0m\n\u001b[1;32m    157\u001b[0m             {\n\u001b[1;32m    158\u001b[0m                 \u001b[0;34m(\u001b[0m\u001b[0mp\u001b[0m\u001b[0;34m.\u001b[0m\u001b[0mx\u001b[0m\u001b[0;34m,\u001b[0m \u001b[0mp\u001b[0m\u001b[0;34m.\u001b[0m\u001b[0my\u001b[0m\u001b[0;34m)\u001b[0m\u001b[0;34m:\u001b[0m \u001b[0mp\u001b[0m\u001b[0;34m\u001b[0m\u001b[0;34m\u001b[0m\u001b[0m\n\u001b[0;32m--> 159\u001b[0;31m                 \u001b[0;32mfor\u001b[0m \u001b[0mp\u001b[0m \u001b[0;32min\u001b[0m \u001b[0mchain\u001b[0m\u001b[0;34m(\u001b[0m\u001b[0mself\u001b[0m\u001b[0;34m.\u001b[0m\u001b[0mlocations\u001b[0m\u001b[0;34m.\u001b[0m\u001b[0mvalues\u001b[0m\u001b[0;34m(\u001b[0m\u001b[0;34m)\u001b[0m\u001b[0;34m,\u001b[0m \u001b[0;34m*\u001b[0m\u001b[0mself\u001b[0m\u001b[0;34m.\u001b[0m\u001b[0mregions\u001b[0m\u001b[0;34m.\u001b[0m\u001b[0mvalues\u001b[0m\u001b[0;34m(\u001b[0m\u001b[0;34m)\u001b[0m\u001b[0;34m)\u001b[0m\u001b[0;34m\u001b[0m\u001b[0;34m\u001b[0m\u001b[0m\n\u001b[0m\u001b[1;32m    160\u001b[0m             }\n\u001b[1;32m    161\u001b[0m         )\n",
      "\u001b[0;31mAttributeError\u001b[0m: 'Location' object has no attribute 'x'"
     ]
    }
   ],
   "source": [
    "# read provided shape file\n",
    "import geopandas as gpd\n",
    "region_shape = gpd.read_file('berlin_shape.geojson')\n",
    "\n",
    "open_FRED_weather_pvlib_region = Weather(\n",
    "    start='2017-01-01', stop='2018-01-01', \n",
    "    locations=[], \n",
    "    regions=[region_shape.geometry.values[0]],\n",
    "    variables=\"pvlib\",\n",
    "    **defaultdb())"
   ]
  },
  {
   "cell_type": "markdown",
   "metadata": {},
   "source": [
    "## Convert data into pvlib and windpowerlib format<a class=\"anchor\" id=\"convert\"></a>\n",
    "\n",
    "In order to use the weather data for your feed-in calculations using the pvlib and windpowerlib it has to be converted into the required format. This is done using the `df` method of the `Weather` class. \n",
    "The dataframe can only be created for a single location, which is also how it is required by the pvlib and windpowerlib. You therefore always have to provide a shapely Point with longitude and latitude of the desired location."
   ]
  },
  {
   "cell_type": "markdown",
   "metadata": {},
   "source": [
    "Let's first plot the downloaded weather data points for the region on a map."
   ]
  },
  {
   "cell_type": "code",
   "execution_count": 33,
   "metadata": {},
   "outputs": [],
   "source": [
    "# get all downloaded weather data points\n",
    "from geoalchemy2.shape import to_shape\n",
    "\n",
    "points = [to_shape(location.point)\n",
    "  for locations in open_FRED_weather_pvlib_berlin.regions.values()\n",
    "  for location in locations\n",
    "]\n",
    "points_df = gpd.GeoDataFrame({'geometry': points})\n",
    "\n",
    "# plot weather data points on map\n",
    "base = region_shape.plot(color='white', edgecolor='black')\n",
    "points_df.plot(ax=base, marker='o', color='red', markersize=5);"
   ]
  },
  {
   "cell_type": "code",
   "execution_count": 7,
   "metadata": {},
   "outputs": [],
   "source": [
    "# convert to windpowerlib dataframe\n",
    "windpowerlib_df = open_FRED_weather_windpowerlib_single_location.df(\n",
    "    location=location,\n",
    "    lib=\"windpowerlib\")"
   ]
  },
  {
   "cell_type": "code",
   "execution_count": null,
   "metadata": {},
   "outputs": [],
   "source": [
    "# convert to pvlib dataframe\n",
    "pvlib_df = open_FRED_weather_pvlib_region.df(\n",
    "    location=location,\n",
    "    lib=\"pvlib\")"
   ]
  },
  {
   "cell_type": "code",
   "execution_count": 43,
   "metadata": {},
   "outputs": [],
   "source": [
    "pvlib_df.to_csv('open_FRED_Dahlem_2017.csv')"
   ]
  },
  {
   "cell_type": "markdown",
   "metadata": {},
   "source": [
    "The following shows you in short how to use the weather data for feed-in calculations and mainly serves as a test wether the conversion works correctly. More detailed explanation on feed-in calculations using the feedinlib can be found in the notebooks `run_pvlib_model.ipynb` and `run_windpowerlib_turbine_model.ipynb`."
   ]
  },
  {
   "cell_type": "code",
   "execution_count": null,
   "metadata": {},
   "outputs": [],
   "source": [
    "from feedinlib import Photovoltaic\n",
    "system_data = {\n",
    "    'module_name': 'Advent_Solar_Ventura_210___2008_', \n",
    "    'inverter_name': 'ABB__MICRO_0_25_I_OUTD_US_208__208V_',\n",
    "    'azimuth': 180,\n",
    "    'tilt': 30,\n",
    "    'albedo': 0.2}\n",
    "pv_system = Photovoltaic(**system_data)\n",
    "feedin = pv_system.feedin(\n",
    "    weather=pvlib_df,\n",
    "    location=(52.4, 13.2))\n",
    "feedin.plot()"
   ]
  },
  {
   "cell_type": "code",
   "execution_count": 8,
   "metadata": {},
   "outputs": [
    {
     "name": "stderr",
     "output_type": "stream",
     "text": [
      "/home/birgit/virtualenvs/feedinlib_openmod/lib/python3.6/site-packages/pandas/core/arrays/datetimes.py:1269: UserWarning: Converting to PeriodArray/Index representation will drop timezone information.\n",
      "  UserWarning,\n"
     ]
    },
    {
     "data": {
      "text/plain": [
       "<matplotlib.axes._subplots.AxesSubplot at 0x7f88de3bf128>"
      ]
     },
     "execution_count": 8,
     "metadata": {},
     "output_type": "execute_result"
    },
    {
     "data": {
      "image/png": "[encoded data removed]",
      "text/plain": [
       "<Figure size 432x288 with 1 Axes>"
      ]
     },
     "metadata": {
      "needs_background": "light"
     },
     "output_type": "display_data"
    }
   ],
   "source": [
    "from feedinlib import WindPowerPlant\n",
    "turbine_data = {\n",
    "    'turbine_type': 'E-101/3050',\n",
    "    'hub_height': 135\n",
    "    }\n",
    "wind_turbine = WindPowerPlant(**turbine_data)\n",
    "feedin = wind_turbine.feedin(\n",
    "    weather=windpowerlib_df)\n",
    "feedin.plot()"
   ]
  },
  {
   "cell_type": "code",
   "execution_count": null,
   "metadata": {},
   "outputs": [],
   "source": []
  }
 ],
 "metadata": {
  "kernelspec": {
   "display_name": "Python 3",
   "language": "python",
   "name": "python3"
  },
  "language_info": {
   "codemirror_mode": {
    "name": "ipython",
    "version": 3
   },
   "file_extension": ".py",
   "mimetype": "text/x-python",
   "name": "python",
   "nbconvert_exporter": "python",
   "pygments_lexer": "ipython3",
   "version": "3.6.9"
  }
 },
 "nbformat": 4,
 "nbformat_minor": 2
}
