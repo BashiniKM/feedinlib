{
 "cells": [
  {
   "cell_type": "markdown",
   "metadata": {},
   "source": [
    "# Example for using the Pvlib model\n",
    "\n",
    "## Content:\n",
    "\n",
    "* [Set up Photovoltaic object](#photovoltaic_object)\n",
    "* [Get weather data](#weather_data)\n",
    "* [Calculate feed-in](#feedin)"
   ]
  },
  {
   "cell_type": "markdown",
   "metadata": {},
   "source": [
    "## Set up Photovoltaic object <a class=\"anchor\" id=\"photovoltaic_object\"></a>\n",
    "\n",
    "To calculate the feed-in using the `Pvlib` model you have to set up a `Photovoltaic` object. You can import it as follows:"
   ]
  },
  {
   "cell_type": "code",
   "execution_count": null,
   "metadata": {},
   "outputs": [],
   "source": [
    "from feedinlib import Photovoltaic"
   ]
  },
  {
   "cell_type": "markdown",
   "metadata": {},
   "source": [
    "To set up a Photovoltaic system you have to provide all PV system parameters required by the `PVlib` model. The required parameters can be looked up in the [model's documentation](https://feedinlib.readthedocs.io/en/features-design-skeleton/temp/feedinlib.models.Pvlib.html#feedinlib.models.Pvlib.power_plant_requires).\n",
    "For the `Pvlib` model these are the **azimuth** and **tilt** of the module as well as the **albedo or surface type**. Furthermore, the **name of the module and inverter** are needed to obtain technical parameters from the provided module and inverter databases. For an overview of the provided modules and inverters you can use the function `get_power_plant_data()`."
   ]
  },
  {
   "cell_type": "code",
   "execution_count": null,
   "metadata": {},
   "outputs": [],
   "source": [
    "from feedinlib import get_power_plant_data"
   ]
  },
  {
   "cell_type": "code",
   "execution_count": null,
   "metadata": {},
   "outputs": [],
   "source": [
    "# get modules\n",
    "module_df = get_power_plant_data(dataset='sandiamod')\n",
    "# print the first four modules\n",
    "module_df.iloc[:, 1:5]"
   ]
  },
  {
   "cell_type": "code",
   "execution_count": null,
   "metadata": {},
   "outputs": [],
   "source": [
    "# get inverter data\n",
    "inverter_df = get_power_plant_data(dataset='cecinverter')\n",
    "# print the first four inverters\n",
    "inverter_df.iloc[:, 1:5]"
   ]
  },
  {
   "cell_type": "markdown",
   "metadata": {},
   "source": [
    "Now you can set up a PV system to calculate feed-in for, using for example the first module and converter in the databases:"
   ]
  },
  {
   "cell_type": "code",
   "execution_count": null,
   "metadata": {},
   "outputs": [],
   "source": [
    "system_data = {\n",
    "    'module_name': 'Advent_Solar_Ventura_210___2008_',  # module name as in database\n",
    "    'inverter_name': 'ABB__MICRO_0_25_I_OUTD_US_208__208V__208V__CEC_2018_',  # inverter name as in database\n",
    "    'azimuth': 180,\n",
    "    'tilt': 30,\n",
    "    'albedo': 0.2}\n",
    "pv_system = Photovoltaic(**system_data)"
   ]
  },
  {
   "cell_type": "markdown",
   "metadata": {},
   "source": [
    "### Optional power plant parameters\n",
    "\n",
    "Besides the required PV system parameters you can provide optional parameters such as the number of modules per string, etc. Optional PV system parameters are specific to the used model and how to find out about the possible optional parameters is documented in the model's `feedin` method under `power_plant_parameters`. In case of the `Pvlib` model see [here](https://feedinlib.readthedocs.io/en/features-design-skeleton/temp/feedinlib.models.Pvlib.html#feedinlib.models.Pvlib.feedin). "
   ]
  },
  {
   "cell_type": "code",
   "execution_count": null,
   "metadata": {},
   "outputs": [],
   "source": [
    "system_data['modules_per_string'] = 2\n",
    "pv_system_with_optional_parameters = Photovoltaic(**system_data)"
   ]
  },
  {
   "cell_type": "markdown",
   "metadata": {},
   "source": [
    "## Get weather data <a class=\"anchor\" id=\"weather_data\"></a>\n",
    "\n",
    "Besides setting up your PV system you have to provide weather data the feed-in is calculated with.\n",
    "This example uses open_FRED weather data. For more information on the data and download see the [load_open_fred_weather_data Notebook](load_open_fred_weather_data.ipynb)."
   ]
  },
  {
   "cell_type": "code",
   "execution_count": null,
   "metadata": {},
   "outputs": [],
   "source": [
    "from feedinlib.db import Weather\n",
    "from feedinlib.db import defaultdb\n",
    "from shapely.geometry import Point"
   ]
  },
  {
   "cell_type": "code",
   "execution_count": null,
   "metadata": {},
   "outputs": [],
   "source": [
    "# specify latitude and longitude of PV system location\n",
    "lat = 52.4\n",
    "lon = 13.5\n",
    "location = Point(lon, lat)"
   ]
  },
  {
   "cell_type": "code",
   "execution_count": null,
   "metadata": {},
   "outputs": [],
   "source": [
    "# download weather data for June 2017\n",
    "open_FRED_weather_data = Weather(\n",
    "    start='2017-06-01', stop='2017-07-01', \n",
    "    locations=[location],\n",
    "    variables=\"pvlib\",\n",
    "    **defaultdb())"
   ]
  },
  {
   "cell_type": "code",
   "execution_count": null,
   "metadata": {},
   "outputs": [],
   "source": [
    "# get weather data in pvlib format\n",
    "weather_df = open_FRED_weather_data.df(location=location, lib=\"pvlib\")"
   ]
  },
  {
   "cell_type": "code",
   "execution_count": null,
   "metadata": {},
   "outputs": [],
   "source": [
    "# plot irradiance\n",
    "import matplotlib.pyplot as plt\n",
    "%matplotlib inline\n",
    "weather_df.loc[:, ['dhi', 'ghi']].plot(title='Irradiance')\n",
    "plt.xlabel('Time')\n",
    "plt.ylabel('Irradiance in $W/m^2$')"
   ]
  },
  {
   "cell_type": "markdown",
   "metadata": {},
   "source": [
    "## Calculate feed-in <a class=\"anchor\" id=\"feedin\"></a>\n",
    "\n",
    "The feed-in can be calculated by calling the `Photovoltaic`'s `feedin` method with the weather data. For the `Pvlib` model you also have to provide the location of the PV system."
   ]
  },
  {
   "cell_type": "code",
   "execution_count": null,
   "metadata": {},
   "outputs": [],
   "source": [
    "feedin = pv_system.feedin(\n",
    "    weather=weather_df,\n",
    "    location=(lat, lon))"
   ]
  },
  {
   "cell_type": "code",
   "execution_count": null,
   "metadata": {
    "scrolled": true
   },
   "outputs": [],
   "source": [
    "# plot calculated feed-in\n",
    "import matplotlib.pyplot as plt\n",
    "%matplotlib inline\n",
    "feedin.plot(title='PV feed-in')\n",
    "plt.xlabel('Time')\n",
    "plt.ylabel('Power in W')"
   ]
  },
  {
   "cell_type": "markdown",
   "metadata": {},
   "source": [
    "### Scaled feed-in\n",
    "\n",
    "The PV feed-in can also be automatically scaled by the PV system's area or peak power. The following example shows how to scale feed-in by area."
   ]
  },
  {
   "cell_type": "code",
   "execution_count": null,
   "metadata": {},
   "outputs": [],
   "source": [
    "feedin_scaled = pv_system.feedin(\n",
    "    weather=weather_df,\n",
    "    location=(lat, lon),\n",
    "    scaling='area')"
   ]
  },
  {
   "cell_type": "markdown",
   "metadata": {},
   "source": [
    "To scale by the peak power use `scaling=peak_power`.\n",
    "\n",
    "The PV system area and peak power can be retrieved as follows:"
   ]
  },
  {
   "cell_type": "code",
   "execution_count": null,
   "metadata": {},
   "outputs": [],
   "source": [
    "pv_system.area"
   ]
  },
  {
   "cell_type": "code",
   "execution_count": null,
   "metadata": {},
   "outputs": [],
   "source": [
    "pv_system.peak_power"
   ]
  },
  {
   "cell_type": "code",
   "execution_count": null,
   "metadata": {
    "scrolled": true
   },
   "outputs": [],
   "source": [
    "# plot calculated feed-in\n",
    "import matplotlib.pyplot as plt\n",
    "%matplotlib inline\n",
    "feedin_scaled.plot(title='Scaled PV feed-in')\n",
    "plt.xlabel('Time')\n",
    "plt.ylabel('Power in W')"
   ]
  },
  {
   "cell_type": "markdown",
   "metadata": {},
   "source": [
    "### Feed-in for PV system with optional parameters\n",
    "\n",
    "In the following example the feed-in is calculated for the PV system with optional system parameters (with 2 modules per string, instead of 1, which is the default). It was chosen to demonstrate the importantance of choosing a suitable converter."
   ]
  },
  {
   "cell_type": "code",
   "execution_count": null,
   "metadata": {},
   "outputs": [],
   "source": [
    "feedin_ac = pv_system_with_optional_parameters.feedin(\n",
    "    weather=weather_df,\n",
    "    location=(lat, lon))"
   ]
  },
  {
   "cell_type": "code",
   "execution_count": null,
   "metadata": {},
   "outputs": [],
   "source": [
    "# plot calculated feed-in\n",
    "import matplotlib.pyplot as plt\n",
    "%matplotlib inline\n",
    "feedin_ac.plot(title='PV feed-in')\n",
    "plt.xlabel('Time')\n",
    "plt.ylabel('Power in W')"
   ]
  },
  {
   "cell_type": "markdown",
   "metadata": {},
   "source": [
    "As the above plot shows the feed-in is cut off at 250 W. That is because it is limited by the inverter. So while the area is as expected two times greater as for the PV system without optional parameters, the peak power is only around 1.2 times higher."
   ]
  },
  {
   "cell_type": "code",
   "execution_count": null,
   "metadata": {},
   "outputs": [],
   "source": [
    "pv_system_with_optional_parameters.peak_power / pv_system.peak_power"
   ]
  },
  {
   "cell_type": "code",
   "execution_count": null,
   "metadata": {},
   "outputs": [],
   "source": [
    "pv_system_with_optional_parameters.area / pv_system.area"
   ]
  },
  {
   "cell_type": "markdown",
   "metadata": {},
   "source": [
    "If you are only interested in the modules power output without the inverter losses you can have the `Pvlib` model return the DC feed-in. This is done as follows: "
   ]
  },
  {
   "cell_type": "code",
   "execution_count": null,
   "metadata": {},
   "outputs": [],
   "source": [
    "feedin_dc = pv_system_with_optional_parameters.feedin(\n",
    "    weather=weather_df,\n",
    "    location=(lat, lon),\n",
    "    mode='dc')"
   ]
  },
  {
   "cell_type": "code",
   "execution_count": null,
   "metadata": {},
   "outputs": [],
   "source": [
    "# plot calculated feed-in\n",
    "import matplotlib.pyplot as plt\n",
    "%matplotlib inline\n",
    "feedin_dc.plot(label='DC', title='PV feed-in', legend=True)\n",
    "feedin_ac.plot(label='AC', legend=True)\n",
    "plt.xlabel('Time')\n",
    "plt.ylabel('Power in W')"
   ]
  },
  {
   "cell_type": "markdown",
   "metadata": {},
   "source": [
    "### Feed-in with optional model parameters\n",
    "\n",
    "The pvlib offers a variety of different models, e.g. to determine losses or the solar position. To use different models than the default models you can pass them to the `feedin` method:"
   ]
  },
  {
   "cell_type": "code",
   "execution_count": null,
   "metadata": {},
   "outputs": [],
   "source": [
    "feedin_no_loss = pv_system.feedin(\n",
    "    weather=weather_df,\n",
    "    location=(lat, lon),\n",
    "    aoi_model='no_loss')"
   ]
  },
  {
   "cell_type": "code",
   "execution_count": null,
   "metadata": {},
   "outputs": [],
   "source": [
    "# plot calculated feed-in\n",
    "import matplotlib.pyplot as plt\n",
    "%matplotlib inline\n",
    "feedin_no_loss.iloc[0:96].plot(label='aoi_model = no_loss', legend=True)\n",
    "feedin.iloc[0:96].plot(label='aoi_model = sapm_aoi_loss', legend=True)\n",
    "plt.xlabel('Time')\n",
    "plt.ylabel('Power in W')"
   ]
  },
  {
   "cell_type": "code",
   "execution_count": null,
   "metadata": {},
   "outputs": [],
   "source": []
  }
 ],
 "metadata": {
  "kernelspec": {
   "display_name": "Python 3",
   "language": "python",
   "name": "python3"
  },
  "language_info": {
   "codemirror_mode": {
    "name": "ipython",
    "version": 3
   },
   "file_extension": ".py",
   "mimetype": "text/x-python",
   "name": "python",
   "nbconvert_exporter": "python",
   "pygments_lexer": "ipython3",
   "version": "3.6.7"
  }
 },
 "nbformat": 4,
 "nbformat_minor": 2
}
