{
 "cells": [
  {
   "cell_type": "markdown",
   "metadata": {},
   "source": [
    "# Example for ERA5 weather data download\n",
    "\n",
    "This example shows you how to download ERA5 weather data from the [Climate Data Store (CDS)](https://cds.climate.copernicus.eu) and store it locally. Furthermore, it shows how to convert the weather data to the format needed by the pvlib and windpowerlib.\n",
    "\n",
    "In order to download ERA5 weather data you need an account at the [CDS](https://cds.climate.copernicus.eu).\n",
    "Furthermore, you need to install the cdsapi package. See [here](https://cds.climate.copernicus.eu/api-how-to) for installation details. \n",
    "\n",
    "When downloading the data using the API your request gets queued and may take a while to be completed. All actual calls of the data download are therefore commented to avoid unintended download. \n",
    "\n",
    "* [Download data for single coordinate](#single_loc)\n",
    "* [Download data for a region](#region)\n",
    "* [Convert data into pvlib and windpowerlib format](#convert)\n"
   ]
  },
  {
   "cell_type": "code",
   "execution_count": 1,
   "metadata": {},
   "outputs": [],
   "source": [
    "from feedinlib import era5"
   ]
  },
  {
   "cell_type": "markdown",
   "metadata": {},
   "source": [
    "## Download data for single coordinate <a class=\"anchor\" id=\"single_loc\"></a>\n",
    "\n",
    "To download data for a single location you have to specify latitude and longitude of the desired location. Data will be retrieved for the nearest weather data point to that location."
   ]
  },
  {
   "cell_type": "code",
   "execution_count": 2,
   "metadata": {},
   "outputs": [],
   "source": [
    "latitude = 52.4\n",
    "longitude = 13.5"
   ]
  },
  {
   "cell_type": "markdown",
   "metadata": {},
   "source": [
    "Besides a location you have to specify a time period for which you would like to download the data as well as the weather variables you need. The feedinlib provides predefined sets of variables that are needed to use the pvlib and windpowerlib. These can be applied by setting the `variable` parameter to \"pvlib\" or \"windpowerlib\", as shown below. If you want to download data for both library you can set `variable` to 'feedinlib'."
   ]
  },
  {
   "cell_type": "code",
   "execution_count": 3,
   "metadata": {},
   "outputs": [],
   "source": [
    "# set start and end date (end date will be included \n",
    "# in the time period for which data is downloaded)\n",
    "start_date, end_date = '2015-01-01', '2015-02-01'\n",
    "# set variable set to download\n",
    "variable = \"windpowerlib\""
   ]
  },
  {
   "cell_type": "markdown",
   "metadata": {},
   "source": [
    "If you want to store the downloaded data you may provide a filename (including path) to save data to."
   ]
  },
  {
   "cell_type": "code",
   "execution_count": 4,
   "metadata": {},
   "outputs": [],
   "source": [
    "target_file = 'ERA5_weather_data.nc'"
   ]
  },
  {
   "cell_type": "markdown",
   "metadata": {},
   "source": [
    "Now we can retrieve the data:\n",
    "\n",
    "```python\n",
    "# get windpowerlib data for specified location\n",
    "ds = era5.get_era5_data_from_datespan_and_position(\n",
    "    variable=variable,\n",
    "    start_date=start_date, end_date=end_date, \n",
    "    latitude=latitude, longitude=longitude,\n",
    "    target_file=target_file)\n",
    "```"
   ]
  },
  {
   "cell_type": "markdown",
   "metadata": {},
   "source": [
    "## Download data for a region<a class=\"anchor\" id=\"region\"></a>\n",
    "\n",
    "When wanting to download weather data for a region instead of providing a single value for each latitude and longitude you have to provide latitude and longitude as lists in the following form:"
   ]
  },
  {
   "cell_type": "code",
   "execution_count": 5,
   "metadata": {},
   "outputs": [],
   "source": [
    "latitude = [51.0, 53.0]  # [latitude south, latitude north]\n",
    "longitude = [13.5, 13.8]  # [longitude west, longitude east]"
   ]
  },
  {
   "cell_type": "code",
   "execution_count": 6,
   "metadata": {},
   "outputs": [],
   "source": [
    "variable = \"pvlib\""
   ]
  },
  {
   "cell_type": "markdown",
   "metadata": {},
   "source": [
    "```python\n",
    "# get pvlib data for specified area\n",
    "ds = era5.get_era5_data_from_datespan_and_position(\n",
    "    variable=variable,\n",
    "    start_date=start_date, end_date=end_date, \n",
    "    latitude=latitude, longitude=longitude,\n",
    "    target_file=target_file)\n",
    "```"
   ]
  },
  {
   "cell_type": "markdown",
   "metadata": {},
   "source": [
    "If you want weather data for the whole world, you may leave latitude and longitude unspecified. \n",
    "\n",
    "```python\n",
    "# get feedinlib data (includes pvlib and windpowerlib data)\n",
    "# for the whole world\n",
    "ds = era5.get_era5_data_from_datespan_and_position(\n",
    "    variable=\"feedinlib\",\n",
    "    start_date=start_date, end_date=end_date,\n",
    "    target_file=target_file)\n",
    "```"
   ]
  },
  {
   "cell_type": "markdown",
   "metadata": {},
   "source": [
    "## Convert data into pvlib and windpowerlib format<a class=\"anchor\" id=\"convert\"></a>\n",
    "\n",
    "In order to use the weather data for your feed-in calculations using the pvlib and windpowerlib it has to be converted into the required format. This can easily be done as follows. "
   ]
  },
  {
   "cell_type": "code",
   "execution_count": 7,
   "metadata": {},
   "outputs": [],
   "source": [
    "# filename (including path) downloaded ERA5 data was saved to\n",
    "era5_netcdf_filename = 'ERA5_weather_data.nc'"
   ]
  },
  {
   "cell_type": "markdown",
   "metadata": {},
   "source": [
    "```python\n",
    "# get weather data in windpowerlib format for all locations in\n",
    "# netcdf file\n",
    "windpowerlib_df = era5.weather_df_from_era5(\n",
    "    era5_netcdf_filename=era5_netcdf_filename,\n",
    "    lib='windpowerlib')\n",
    "```"
   ]
  },
  {
   "cell_type": "markdown",
   "metadata": {},
   "source": [
    "If the netcdf contains more than one location the `windpowerlib_df` will contain all of those locations and the index of the dataframe will be a multiindex with levels (time, latitude, longitude). To use it for windpowerlib calculations you need to select a **single location** first.\n",
    "To directly obtain data for a single location you need to specify it using the `area` parameter:"
   ]
  },
  {
   "cell_type": "markdown",
   "metadata": {},
   "source": [
    "```python\n",
    "# get weather data in windpowerlib format for single location\n",
    "# (weather data for nearest weather data point to specified\n",
    "# location is returned)\n",
    "area = [13.5, 52.4]\n",
    "windpowerlib_df = era5.weather_df_from_era5(\n",
    "    era5_netcdf_filename=era5_netcdf_filename,\n",
    "    lib='windpowerlib', area=area)\n",
    "```"
   ]
  },
  {
   "cell_type": "markdown",
   "metadata": {},
   "source": [
    "You may also specify an area for which to retrieve weather data. Again, keep in mind that in that case the index of the returned dataframe will be a multiindex with levels (time, latitude, longitude) and cannot be directly used for windpowerlib or pvlib calculations."
   ]
  },
  {
   "cell_type": "code",
   "execution_count": 8,
   "metadata": {},
   "outputs": [],
   "source": [
    "# specify rectangular area\n",
    "area = [(13.5, 13.8), (51.0, 53.0)]"
   ]
  },
  {
   "cell_type": "code",
   "execution_count": 9,
   "metadata": {},
   "outputs": [],
   "source": [
    "# specify area giving a Polygon\n",
    "from shapely.geometry import Polygon\n",
    "lat_point_list = [51.936377, 51.936377, 51.744302, 51.744302, 51.936377]\n",
    "lon_point_list = [12.621739, 13.005414, 13.005414, 12.621739, 12.621739]\n",
    "area = Polygon(zip(lon_point_list, lat_point_list))"
   ]
  },
  {
   "cell_type": "markdown",
   "metadata": {},
   "source": [
    "Furthermore, it is possible to specify a start and end date to retrieve data for. They must be provided as something that can be converted to a timestamp, i.e. '2013-07-02'.\n",
    "\n",
    "```python\n",
    "# get weather data in pvlib format starting January 15th\n",
    "start = '2015-01-15'\n",
    "windpowerlib_df = era5.weather_df_from_era5(\n",
    "    era5_netcdf_filename=era5_netcdf_filename,\n",
    "    lib='pvlib', area=area, start=start)\n",
    "```"
   ]
  },
  {
   "cell_type": "code",
   "execution_count": null,
   "metadata": {},
   "outputs": [],
   "source": []
  }
 ],
 "metadata": {
  "kernelspec": {
   "display_name": "Python 3",
   "language": "python",
   "name": "python3"
  },
  "language_info": {
   "codemirror_mode": {
    "name": "ipython",
    "version": 3
   },
   "file_extension": ".py",
   "mimetype": "text/x-python",
   "name": "python",
   "nbconvert_exporter": "python",
   "pygments_lexer": "ipython3",
   "version": "3.6.7"
  }
 },
 "nbformat": 4,
 "nbformat_minor": 2
}
